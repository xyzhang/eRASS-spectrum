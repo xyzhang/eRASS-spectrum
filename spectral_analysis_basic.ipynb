{
 "cells": [
  {
   "cell_type": "markdown",
   "id": "3ae65d4a-0a84-4864-b5f0-ed78840b3065",
   "metadata": {},
   "source": [
    "# Spectral fitting using PyXspec\n",
    "by Xiaoyuan Zhang @ MPE\n",
    "\n",
    "This is a basic practice of using [PyXspec](https://heasarc.gsfc.nasa.gov/xanadu/xspec/python/html/index.html) to fit cluster X-ray spectra. In this notebook, we will \n",
    "- deal with the background with the simplest approach, i.e. to subtract the *local background* spectrum from the source spectrum;\n",
    "- fit the net spectrum with the xspec built-in maximum likelihood (or minimum c-stat) approach;\n",
    "- esitmate the uncertainties of parameters using a built-in delta-fitting-statistic method;\n",
    "- calculate source luminosity and observed flux from the best-fit model."
   ]
  },
  {
   "cell_type": "code",
   "execution_count": 1,
   "id": "81656fbb-aa0d-417d-ae0e-0a7ee3852d82",
   "metadata": {},
   "outputs": [],
   "source": [
    "import os\n",
    "import xspec as xs\n",
    "import numpy as np\n",
    "import matplotlib.pyplot as plt\n",
    "from astropy.io import fits"
   ]
  },
  {
   "cell_type": "markdown",
   "id": "8a9e33a3-096b-45cc-bb1e-f8d23aa26143",
   "metadata": {},
   "source": [
    "First, we need to set a few parameters in xspec"
   ]
  },
  {
   "cell_type": "code",
   "execution_count": 2,
   "id": "2101e7ab-4fec-40ae-a1f8-45a60fce6e6b",
   "metadata": {},
   "outputs": [
    {
     "name": "stdout",
     "output_type": "stream",
     "text": [
      "Default fit statistic is set to: C-Statistic\n",
      "   This will apply to all current and newly loaded spectra.\n",
      " Solar Abundance Vector set to aspl:  Asplund M., Grevesse N., Sauval A.J. & Scott P., ARAA, 47, 481 (2009)\n"
     ]
    }
   ],
   "source": [
    "xs.Fit.statMethod = \"cstat\"  # fitting statistics = Cash-statistics\n",
    "xs.Xset.cosmo = \"70 0 0.7\"  # H0=70, q0=0, O_lambda=0.7\n",
    "xs.Xset.abund = \"aspl\"  # Reference abundance table Asplund+09"
   ]
  },
  {
   "cell_type": "markdown",
   "id": "31645b66-61a3-4b06-904e-186ba17203ae",
   "metadata": {},
   "source": [
    "### Background normalization scaling\n",
    "\n",
    "Before loading the spectra, we need to calculate the scaling factor for the local background. The typical way is to scale the background spectra using the hard band count rate. \n",
    "\n",
    "In xspec, the background subtraction is performed as \n",
    "> $F_\\mathrm{net}[\\mathrm{cts/s}]=(C_\\mathrm{src}/t_\\mathrm{src}) - (C_\\mathrm{bkg}/t_\\mathrm{bkg})\\times(BS_\\mathrm{src}/BS_\\mathrm{bkg})\\times(AS_\\mathrm{src}/AS_\\mathrm{bkg})$, \n",
    "\n",
    "where $BS$ and $AS$ are **BACKSCAL** and **AREASCAL** values in the spectrum header. By default, **AREASCAL** value is one. \n",
    "\n",
    "Becasue we expect to have a zero count rate in the hard band of the net spectrum, we will have $$(C_\\mathrm{src}/t_\\mathrm{src})_\\mathrm{hard} = (C_\\mathrm{bkg}/t_\\mathrm{bkg})_\\mathrm{hard}\\times(BS_\\mathrm{src}/BS_\\mathrm{bkg})$$\n",
    "\n",
    "Given the **BACKSCAL** has been defined in SRCTOOL, let's have a check whether it can properly account for the background scaling or we need an additional factor $r$ to scale the background\n",
    "$$r=(C_\\mathrm{src}/t_\\mathrm{src})_\\mathrm{hard} / (C_\\mathrm{bkg}/t_\\mathrm{bkg})_\\mathrm{hard} / (BS_\\mathrm{src}/BS_\\mathrm{bkg})$$\n",
    "\n",
    "The calculation for $r$ by using the 6--9 keV band data is"
   ]
  },
  {
   "cell_type": "code",
   "execution_count": 3,
   "id": "b5a0bccc-9363-4b5c-bdbe-46d71ae01616",
   "metadata": {},
   "outputs": [
    {
     "data": {
      "text/plain": [
       "'1.006+/-0.052'"
      ]
     },
     "metadata": {},
     "output_type": "display_data"
    }
   ],
   "source": [
    "specdata_src = fits.getdata(\"analysis/output_spectra/src_500kpc820_SourceSpec_00001.fits\",\n",
    "                            ext=1)[\"COUNTS\"]\n",
    "specdata_bkg = fits.getdata(\"analysis/output_spectra/bkg_1p5-2deg820_SourceSpec_00001.fits\",\n",
    "                            ext=1)[\"COUNTS\"]\n",
    "channel_elow = fits.getdata(\"analysis/output_spectra/src_500kpc820_RMF_00001.fits\", \n",
    "                            ext=2)[\"E_MIN\"]  # Channel energy bounds are stored in RMF files\n",
    "exp_src = fits.getval(\"analysis/output_spectra/src_500kpc820_SourceSpec_00001.fits\", \n",
    "                      \"exposure\", ext=1)\n",
    "exp_bkg = fits.getval(\"analysis/output_spectra/bkg_1p5-2deg820_SourceSpec_00001.fits\", \n",
    "                      \"exposure\", ext=1)\n",
    "backscal_src = fits.getval(\"analysis/output_spectra/src_500kpc820_SourceSpec_00001.fits\", \n",
    "                           \"backscal\", ext=1)\n",
    "backscal_bkg = fits.getval(\"analysis/output_spectra/bkg_1p5-2deg820_SourceSpec_00001.fits\", \n",
    "                           \"backscal\", ext=1)\n",
    "\n",
    "channel_sel = (channel_elow > 6) & (channel_elow < 9)\n",
    "areascal_ratio = (specdata_src[channel_sel].sum() / exp_src) / \\\n",
    "                 (specdata_bkg[channel_sel].sum() / exp_bkg) / \\\n",
    "                 (backscal_src / backscal_bkg)\n",
    "areascal_ratio_err = areascal_ratio * (specdata_src[channel_sel].sum() ** -1. + specdata_bkg[channel_sel].sum()**-1.)**0.5\n",
    "display(f\"{areascal_ratio:.3f}+/-{areascal_ratio_err:.3f}\")"
   ]
  },
  {
   "cell_type": "markdown",
   "id": "a6c08324-5e3a-4275-97d6-d3a470e7c4fc",
   "metadata": {},
   "source": [
    "The ratio is consistent to one and therefore we do not include an additional correction."
   ]
  },
  {
   "cell_type": "markdown",
   "id": "a6765568-4442-4d9e-a87e-2ff4f8d8cd9b",
   "metadata": {},
   "source": [
    "### Load the spectrum"
   ]
  },
  {
   "cell_type": "code",
   "execution_count": 4,
   "id": "73508022-6458-4baf-85cc-6c3371961608",
   "metadata": {},
   "outputs": [
    {
     "name": "stdout",
     "output_type": "stream",
     "text": [
      "\n",
      "1 spectrum  in use\n",
      " \n",
      "Spectral Data File: src_500kpc820_SourceSpec_00001.grp  Spectrum 1\n",
      "Net count rate (cts/s) for Spectrum:1  1.023e+01 +/- 1.143e-01\n",
      " Assigned to Data Group 1 and Plot Group 1\n",
      "  Noticed Channels:  1-134\n",
      "  Telescope: eROSITA Instrument: MERGED  Channel Type: PI\n",
      "  Exposure Time: 782.4 sec\n",
      " Using fit statistic: cstat\n",
      " Using Response (RMF) File            src_500kpc820_RMF_00001.fits for Source 1\n",
      " Using Auxiliary Response (ARF) File  src_500kpc820_ARF_00001.fits\n",
      "\n",
      "Net count rate (cts/s) for Spectrum:1  6.904e+00 +/- 1.173e-01 (67.5 % total)\n",
      "Spectrum 1  Spectral Data File: src_500kpc820_SourceSpec_00001.grp\n",
      "Net count rate (cts/s) for Spectrum:1  6.904e+00 +/- 1.173e-01 (67.5 % total)\n",
      " Assigned to Data Group 1 and Plot Group 1\n",
      "  Noticed Channels:  1-134\n",
      "  Telescope: eROSITA Instrument: MERGED  Channel Type: PI\n",
      "  Exposure Time: 782.4 sec\n",
      " Using fit statistic: cstat\n",
      " Using Background File                bkg_1p5-2deg820_SourceSpec_00001.fits\n",
      "  Background Exposure Time: 3856 sec\n",
      " Using Response (RMF) File            src_500kpc820_RMF_00001.fits for Source 1\n",
      " Using Auxiliary Response (ARF) File  src_500kpc820_ARF_00001.fits\n",
      "\n",
      " Spectral data counts: 8002\n",
      " Model predicted rate: 0.0\n",
      "\n"
     ]
    }
   ],
   "source": [
    "# go to the directory of generated spectra + responses to load them\n",
    "pwd = os.getcwd()\n",
    "os.chdir(\"analysis/output_spectra/\")\n",
    "\n",
    "\n",
    "\n",
    "xs.Spectrum(\"src_500kpc820_SourceSpec_00001.grp\", \n",
    "            backFile=\"bkg_1p5-2deg820_SourceSpec_00001.fits\")\n",
    "\n",
    "os.chdir(pwd)  # switch the current dirctory back"
   ]
  },
  {
   "cell_type": "markdown",
   "id": "862463b7-4a1b-46aa-aaa7-147396c04132",
   "metadata": {},
   "source": [
    "### Ignore channels with E < 0.3 keV and E > 7 keV"
   ]
  },
  {
   "cell_type": "code",
   "execution_count": 5,
   "id": "b93f2c10-1a2f-48b2-ac72-e38c11ecde7b",
   "metadata": {},
   "outputs": [
    {
     "name": "stdout",
     "output_type": "stream",
     "text": [
      "     5 channels (1-5) ignored in spectrum #     1\n",
      "    37 channels (98-134) ignored in spectrum #     1\n",
      "\n"
     ]
    }
   ],
   "source": [
    "xs.AllData.ignore(\"**-0.3, 7.0-**\")"
   ]
  },
  {
   "cell_type": "markdown",
   "id": "56f8d1a0-6ef0-4d46-9ebe-4576262a04db",
   "metadata": {},
   "source": [
    "### Set spectral model\n",
    "\n",
    "We will use an absorbed collisional ionization equilibrium model (TBabs * apec) to model the spectrum.\n",
    "\n",
    "The foreground Milkyway nH value is $6\\times10^{20}$ cm$^{-2}$\n",
    "(https://www.swift.ac.uk/analysis/nhtot/index.php)"
   ]
  },
  {
   "cell_type": "code",
   "execution_count": 6,
   "id": "b51d97f1-e4b5-4f66-9aca-9450de3ffee9",
   "metadata": {},
   "outputs": [
    {
     "name": "stdout",
     "output_type": "stream",
     "text": [
      "\n",
      "========================================================================\n",
      "Model TBabs<1>*apec<2> Source No.: 1   Active/On\n",
      "Model Model Component  Parameter  Unit     Value\n",
      " par  comp\n",
      "   1    1   TBabs      nH         10^22    1.00000      +/-  0.0          \n",
      "   2    2   apec       kT         keV      1.00000      +/-  0.0          \n",
      "   3    2   apec       Abundanc            1.00000      frozen\n",
      "   4    2   apec       Redshift            0.0          frozen\n",
      "   5    2   apec       norm                1.00000      +/-  0.0          \n",
      "________________________________________________________________________\n",
      "\n",
      "Reading APEC data from 3.0.9\n",
      "\n",
      "\n",
      "Fit statistic  : C-Statistic                40995.33     using 92 bins.\n",
      "\n",
      "Test statistic : Chi-Squared                222919.2     using 92 bins.\n",
      " Null hypothesis probability of 0.0e+00 with 89 degrees of freedom\n",
      " Current data and model not fit yet.\n"
     ]
    },
    {
     "name": "stderr",
     "output_type": "stream",
     "text": [
      "tbvabs Version 2.3\n",
      "Cosmic absorption with grains and H2, modified from\n",
      "Wilms, Allen, & McCray, 2000, ApJ 542, 914-924\n",
      "Questions: Joern Wilms\n",
      "joern.wilms@sternwarte.uni-erlangen.de\n",
      "joern.wilms@fau.de\n",
      "\n",
      "http://pulsar.sternwarte.uni-erlangen.de/wilms/research/tbabs/\n",
      "\n",
      "PLEASE NOTICE:\n",
      "To get the model described by the above paper\n",
      "you will also have to set the abundances:\n",
      "   abund wilm\n",
      "\n",
      "Note that this routine ignores the current cross section setting\n",
      "as it always HAS to use the Verner cross sections as a baseline.\n"
     ]
    }
   ],
   "source": [
    "model_obj = xs.Model(\"tbabs*apec\")"
   ]
  },
  {
   "cell_type": "markdown",
   "id": "6ff48eb7-b2dc-4655-9a7c-e843681a400d",
   "metadata": {},
   "source": [
    "### Fitting"
   ]
  },
  {
   "cell_type": "markdown",
   "id": "6a23beee-e0d6-4827-9e22-f7a7dbf6a42f",
   "metadata": {},
   "source": [
    "Let's set the initial parameters and fit the spectrum"
   ]
  },
  {
   "cell_type": "code",
   "execution_count": 7,
   "id": "12e46236-c53f-4f08-8fb9-361979fcc7f8",
   "metadata": {
    "tags": []
   },
   "outputs": [
    {
     "name": "stdout",
     "output_type": "stream",
     "text": [
      "\n",
      "Fit statistic  : C-Statistic                271073.5     using 92 bins.\n",
      "\n",
      "Test statistic : Chi-Squared              6.622116e+06     using 92 bins.\n",
      " Null hypothesis probability of 0.000000e+00 with 89 degrees of freedom\n",
      " Current data and model not fit yet.\n",
      "\n",
      "Fit statistic  : C-Statistic                271073.5     using 92 bins.\n",
      "\n",
      "Test statistic : Chi-Squared              6.622116e+06     using 92 bins.\n",
      " Null hypothesis probability of 0.000000e+00 with 90 degrees of freedom\n",
      " Current data and model not fit yet.\n",
      "\n",
      "Fit statistic  : C-Statistic                81659.26     using 92 bins.\n",
      "\n",
      "Test statistic : Chi-Squared                468448.0     using 92 bins.\n",
      " Null hypothesis probability of 0.0e+00 with 90 degrees of freedom\n",
      " Current data and model not fit yet.\n",
      "\n",
      "Fit statistic  : C-Statistic                79390.87     using 92 bins.\n",
      "\n",
      "Test statistic : Chi-Squared                447240.3     using 92 bins.\n",
      " Null hypothesis probability of 0.0e+00 with 90 degrees of freedom\n",
      " Current data and model not fit yet.\n",
      "\n",
      "Fit statistic  : C-Statistic                63232.96     using 92 bins.\n",
      "\n",
      "Test statistic : Chi-Squared                301495.5     using 92 bins.\n",
      " Null hypothesis probability of 0.0e+00 with 90 degrees of freedom\n",
      " Current data and model not fit yet.\n",
      "\n",
      "Fit statistic  : C-Statistic                63232.96     using 92 bins.\n",
      "\n",
      "Test statistic : Chi-Squared                301495.5     using 92 bins.\n",
      " Null hypothesis probability of 0.0e+00 with 90 degrees of freedom\n",
      " Current data and model not fit yet.\n",
      "                                   Parameters\n",
      "C-Statistic  |beta|/N    Lvl          2:kT        5:norm\n",
      "718.529      22128        -3       10.5045      0.159943\n",
      "317.995      5073.03       0       13.1048      0.135531\n",
      "268.206      1809.14      -1       13.9876      0.124598\n",
      "202.167      111.687      -1       6.31397      0.101957\n",
      "139.221      1372.3       -2       2.82901     0.0962782\n",
      "112.638      1642.98      -3       2.88762      0.104125\n",
      "112.542      95.0665      -4       2.88112      0.104621\n",
      "112.542      0.292388     -5       2.88254      0.104625\n",
      "==============================\n",
      " Variances and Principal Axes\n",
      "                 2        5  \n",
      " 2.6777E-06| -0.0015   1.0000  \n",
      " 4.0610E-02|  1.0000   0.0015  \n",
      "------------------------------\n",
      "\n",
      "========================\n",
      "  Covariance Matrix\n",
      "        1           2   \n",
      "   4.061e-02   6.121e-05\n",
      "   6.121e-05   2.770e-06\n",
      "------------------------\n",
      "\n",
      "========================================================================\n",
      "Model TBabs<1>*apec<2> Source No.: 1   Active/On\n",
      "Model Model Component  Parameter  Unit     Value\n",
      " par  comp\n",
      "   1    1   TBabs      nH         10^22    6.00000E-02  frozen\n",
      "   2    2   apec       kT         keV      2.88254      +/-  0.201519     \n",
      "   3    2   apec       Abundanc            0.400000     frozen\n",
      "   4    2   apec       Redshift            1.29000E-02  frozen\n",
      "   5    2   apec       norm                0.104625     +/-  1.66431E-03  \n",
      "________________________________________________________________________\n",
      "\n",
      "\n",
      "Fit statistic  : C-Statistic                  112.54     using 92 bins.\n",
      "\n",
      "Test statistic : Chi-Squared                  114.02     using 92 bins.\n",
      " Null hypothesis probability of 4.45e-02 with 90 degrees of freedom\n",
      "                                   Parameters\n",
      "C-Statistic  |beta|/N    Lvl          2:kT        5:norm\n",
      "112.542      0.0169815     8       2.88254      0.104625\n",
      "==============================\n",
      " Variances and Principal Axes\n",
      "                 2        5  \n",
      " 2.6778E-06| -0.0015   1.0000  \n",
      " 4.0856E-02|  1.0000   0.0015  \n",
      "------------------------------\n",
      "\n",
      "========================\n",
      "  Covariance Matrix\n",
      "        1           2   \n",
      "   4.086e-02   6.145e-05\n",
      "   6.145e-05   2.770e-06\n",
      "------------------------\n",
      "\n",
      "========================================================================\n",
      "Model TBabs<1>*apec<2> Source No.: 1   Active/On\n",
      "Model Model Component  Parameter  Unit     Value\n",
      " par  comp\n",
      "   1    1   TBabs      nH         10^22    6.00000E-02  frozen\n",
      "   2    2   apec       kT         keV      2.88254      +/-  0.202129     \n",
      "   3    2   apec       Abundanc            0.400000     frozen\n",
      "   4    2   apec       Redshift            1.29000E-02  frozen\n",
      "   5    2   apec       norm                0.104625     +/-  1.66441E-03  \n",
      "________________________________________________________________________\n",
      "\n",
      "\n",
      "Fit statistic  : C-Statistic                  112.54     using 92 bins.\n",
      "\n",
      "Test statistic : Chi-Squared                  114.02     using 92 bins.\n",
      " Null hypothesis probability of 4.45e-02 with 90 degrees of freedom\n"
     ]
    }
   ],
   "source": [
    "model_obj.TBabs.nH = 6e-2\n",
    "model_obj.TBabs.nH.frozen = True\n",
    "\n",
    "model_obj.apec.kT = 3\n",
    "model_obj.apec.Redshift = 0.0129\n",
    "model_obj.apec.Abundanc = 0.4\n",
    "\n",
    "xs.Fit.renorm()\n",
    "xs.Fit.perform()\n",
    "xs.Fit.perform()"
   ]
  },
  {
   "cell_type": "markdown",
   "id": "355f05eb-2d50-4095-b24b-3800b534a7db",
   "metadata": {},
   "source": [
    "### visualize the best-fit spectrum"
   ]
  },
  {
   "cell_type": "code",
   "execution_count": 8,
   "id": "a106d3c5-089b-4b1a-a0d1-c06bc805f30f",
   "metadata": {},
   "outputs": [
    {
     "data": {
      "image/png": "[encoded data removed]",
      "text/plain": [
       "<Figure size 640x480 with 1 Axes>"
      ]
     },
     "metadata": {},
     "output_type": "display_data"
    }
   ],
   "source": [
    "xs.Plot.xAxis = \"keV\"\n",
    "xs.Plot.background = True\n",
    "xs.Plot(\"data\")\n",
    "ener = xs.Plot.x()\n",
    "spec = xs.Plot.y()\n",
    "spec_err = xs.Plot.yErr()\n",
    "spec_mo = xs.Plot.model()\n",
    "spec_bkg = xs.Plot.backgroundVals()\n",
    "\n",
    "plt.errorbar(ener, spec, yerr=spec_err, ls=\"\", capsize=1, elinewidth=1)\n",
    "plt.loglog(ener, spec_mo)\n",
    "plt.loglog(ener,spec_bkg)\n",
    "plt.xlim(0.3,7)\n",
    "plt.xlabel(\"E [keV]\")\n",
    "plt.ylabel(\"F(E) [cts/s/keV]\")\n",
    "plt.show()"
   ]
  },
  {
   "cell_type": "markdown",
   "id": "1a6c1f0d-f15d-4cce-93f6-578549a95e8c",
   "metadata": {},
   "source": [
    "### Uncertainty of kT"
   ]
  },
  {
   "cell_type": "code",
   "execution_count": 9,
   "id": "9fbd272e-bc71-4dfe-9a51-cea66e6c0033",
   "metadata": {},
   "outputs": [
    {
     "name": "stdout",
     "output_type": "stream",
     "text": [
      " Parameter   Confidence Range (1)\n",
      "     2      2.69806      3.09508    (-0.184485,0.212539)\n"
     ]
    }
   ],
   "source": [
    "xs.Fit.error(\"1. 2\")  # 1.0 sigma uncertainty of par-2"
   ]
  },
  {
   "cell_type": "markdown",
   "id": "8664f81b-7d17-4080-aa0e-f1652d9cb2f9",
   "metadata": {},
   "source": [
    "### Luminosity and flux from spectral fitting\n"
   ]
  },
  {
   "cell_type": "code",
   "execution_count": 10,
   "id": "d8dc3b51-ac9d-40e1-8e7a-f9aa1147d4be",
   "metadata": {},
   "outputs": [
    {
     "name": "stdout",
     "output_type": "stream",
     "text": [
      " Model Flux  0.042977 photons (6.4841e-11 ergs/cm^2/s) range (0.30000 - 2.3000 keV)\n"
     ]
    }
   ],
   "source": [
    "xs.AllModels.calcFlux(\".3 2.3\")  # 0.3--2.3 keV absorped flux"
   ]
  },
  {
   "cell_type": "code",
   "execution_count": 11,
   "id": "5a8170f1-592c-4105-bfb3-01e76f984869",
   "metadata": {},
   "outputs": [
    {
     "name": "stdout",
     "output_type": "stream",
     "text": [
      "\n",
      "Fit statistic  : C-Statistic                  327.84     using 92 bins.\n",
      "\n",
      "Test statistic : Chi-Squared                  404.36     using 92 bins.\n",
      " Null hypothesis probability of 2.13e-41 with 90 degrees of freedom\n",
      " Current data and model not fit yet.\n",
      "Model Luminosity 3.1705e+43 ergs/s  (0.20000 - 2.3000 keV rest frame)\n",
      "     (z = 0.0129 H0 =  70.0 q0 =  0.00 Lambda0 = 0.700)\n",
      "\n",
      "Fit statistic  : C-Statistic                  112.54     using 92 bins.\n",
      "\n",
      "Test statistic : Chi-Squared                  114.02     using 92 bins.\n",
      " Null hypothesis probability of 4.45e-02 with 90 degrees of freedom\n",
      " Current data and model not fit yet.\n"
     ]
    }
   ],
   "source": [
    "model_obj.TBabs.nH = 0  # set absorption nH to 0 for luminoisty calculation\n",
    "xs.AllModels.calcLumin(\".2 2.3 0.0129\")  # 0.3--2.3 keV band luminosity @ z=0.0129\n",
    "model_obj.TBabs.nH = 6e-2  # set nH back"
   ]
  },
  {
   "cell_type": "code",
   "execution_count": null,
   "id": "96998d39-914b-4a1e-89f0-bcb6b09a9233",
   "metadata": {},
   "outputs": [],
   "source": []
  }
 ],
 "metadata": {
  "kernelspec": {
   "display_name": "Python 3 (ipykernel)",
   "language": "python",
   "name": "python3"
  },
  "language_info": {
   "codemirror_mode": {
    "name": "ipython",
    "version": 3
   },
   "file_extension": ".py",
   "mimetype": "text/x-python",
   "name": "python",
   "nbconvert_exporter": "python",
   "pygments_lexer": "ipython3",
   "version": "3.8.16"
  }
 },
 "nbformat": 4,
 "nbformat_minor": 5
}
